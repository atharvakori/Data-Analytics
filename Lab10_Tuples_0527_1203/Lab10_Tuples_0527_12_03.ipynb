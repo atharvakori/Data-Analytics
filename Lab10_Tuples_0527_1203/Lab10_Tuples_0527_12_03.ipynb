{
  "nbformat": 4,
  "nbformat_minor": 0,
  "metadata": {
    "colab": {
      "provenance": []
    },
    "kernelspec": {
      "name": "python3",
      "display_name": "Python 3"
    },
    "language_info": {
      "name": "python"
    }
  },
  "cells": [
    {
      "cell_type": "code",
      "execution_count": 1,
      "metadata": {
        "id": "DPaMHFqeTkHR",
        "colab": {
          "base_uri": "https://localhost:8080/"
        },
        "outputId": "55875e70-12f4-4624-c094-98246098d830"
      },
      "outputs": [
        {
          "output_type": "stream",
          "name": "stdout",
          "text": [
            "3\n"
          ]
        }
      ],
      "source": [
        "# Q1 . Find the number of times 4 appears in the tuple:\n",
        "\n",
        "tuplex = (2, 4, 5, 6, 2, 3, 4, 4, 7)\n",
        "count_4 = tuplex.count(4)\n",
        "print(count_4)"
      ]
    },
    {
      "cell_type": "code",
      "source": [
        "# Q2. Convert a list to a tuple:\n",
        "\n",
        "my_list = [1, 2, 3, 4, 5]\n",
        "my_tuple = tuple(my_list)\n",
        "print(my_tuple)"
      ],
      "metadata": {
        "id": "Ise_wYcpZOkv",
        "colab": {
          "base_uri": "https://localhost:8080/"
        },
        "outputId": "7daa1ae5-1575-4670-94e8-f8e4694921f6"
      },
      "execution_count": 2,
      "outputs": [
        {
          "output_type": "stream",
          "name": "stdout",
          "text": [
            "(1, 2, 3, 4, 5)\n"
          ]
        }
      ]
    },
    {
      "cell_type": "code",
      "source": [
        "# Q3. Calculate the sum of the numbers in a given tuple:\n",
        "\n",
        "my_tuple = (1, 2, 3, 4, 5)\n",
        "total = sum(my_tuple)\n",
        "print(total)"
      ],
      "metadata": {
        "colab": {
          "base_uri": "https://localhost:8080/"
        },
        "id": "RZq9Bpj-ZiGZ",
        "outputId": "f2ed97fd-ca0e-4e32-aecb-c95dea483189"
      },
      "execution_count": 3,
      "outputs": [
        {
          "output_type": "stream",
          "name": "stdout",
          "text": [
            "15\n"
          ]
        }
      ]
    },
    {
      "cell_type": "code",
      "source": [
        "# Q3. Iterate through the given tuples and display employee details:\n",
        "\n",
        "employee1 = (\"John Doe\", 101, \"Human Resources\", 60000)\n",
        "employee2 = (\"Alice Smith\", 102, \"Marketing\", 55000)\n",
        "employee3 = (\"Bob Johnson\", 103, \"Engineering\", 75000)\n",
        "employees = [employee1, employee2, employee3]\n",
        "\n",
        "print(\"Employee Records:\")\n",
        "for employee in employees:\n",
        "    print(f\"Name: {employee[0]}\")\n",
        "    print(f\"Employee ID: {employee[1]}\")\n",
        "    print(f\"Department: {employee[2]}\")\n",
        "    print(f\"Salary: ${employee[3]}\")\n",
        "    print()"
      ],
      "metadata": {
        "colab": {
          "base_uri": "https://localhost:8080/"
        },
        "id": "X_LjfADBZnmr",
        "outputId": "d07271a9-3654-4b06-a927-85f5c32ef6f9"
      },
      "execution_count": 4,
      "outputs": [
        {
          "output_type": "stream",
          "name": "stdout",
          "text": [
            "Employee Records:\n",
            "Name: John Doe\n",
            "Employee ID: 101\n",
            "Department: Human Resources\n",
            "Salary: $60000\n",
            "\n",
            "Name: Alice Smith\n",
            "Employee ID: 102\n",
            "Department: Marketing\n",
            "Salary: $55000\n",
            "\n",
            "Name: Bob Johnson\n",
            "Employee ID: 103\n",
            "Department: Engineering\n",
            "Salary: $75000\n",
            "\n"
          ]
        }
      ]
    },
    {
      "cell_type": "code",
      "source": [],
      "metadata": {
        "id": "RnLlUkcmZwCD"
      },
      "execution_count": null,
      "outputs": []
    }
  ]
}