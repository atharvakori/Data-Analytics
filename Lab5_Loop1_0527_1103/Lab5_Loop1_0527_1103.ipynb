{
  "nbformat": 4,
  "nbformat_minor": 0,
  "metadata": {
    "colab": {
      "provenance": []
    },
    "kernelspec": {
      "name": "python3",
      "display_name": "Python 3"
    },
    "language_info": {
      "name": "python"
    }
  },
  "cells": [
    {
      "cell_type": "code",
      "source": [
        "# Q.1 Write a python program to reverse a number using a while loop.\n",
        "\n",
        "def reverse_number(num):\n",
        "    reversed_num = 0\n",
        "\n",
        "    while num != 0:\n",
        "        last_digit = num % 10\n",
        "\n",
        "        reversed_num = reversed_num * 10 + last_digit\n",
        "\n",
        "        num //= 10\n",
        "\n",
        "    return reversed_num\n",
        "\n",
        "num = int(input(\"Enter a number: \"))\n",
        "\n",
        "\n",
        "reversed_num = reverse_number(num)\n",
        "print(\"Reversed number:\", reversed_num)"
      ],
      "metadata": {
        "id": "MmBgKYsAkCi2",
        "colab": {
          "base_uri": "https://localhost:8080/"
        },
        "outputId": "d6e0d0da-738d-4e2e-badf-65f81f2731b9"
      },
      "execution_count": 12,
      "outputs": [
        {
          "output_type": "stream",
          "name": "stdout",
          "text": [
            "Enter a number: 65634\n",
            "Reversed number: 43656\n"
          ]
        }
      ]
    },
    {
      "cell_type": "code",
      "source": [
        "# Q.2 Write a python program to check whether a number is palindrome or not?\n",
        "\n",
        "def is_palindrome(num):\n",
        "    original_num = num\n",
        "    reversed_num = 0\n",
        "    while num != 0:\n",
        "        last_digit = num % 10\n",
        "        reversed_num = reversed_num * 10 + last_digit\n",
        "        num //= 10\n",
        "    return original_num == reversed_num\n",
        "\n",
        "num = int(input(\"Enter a number: \"))\n",
        "if is_palindrome(num):\n",
        "    print(\"Palindrome\")\n",
        "else:\n",
        "    print(\"Not Palindrome\")"
      ],
      "metadata": {
        "colab": {
          "base_uri": "https://localhost:8080/"
        },
        "id": "PbkQjl8Qkxnp",
        "outputId": "20654202-bcf5-4dba-ba27-ec6bf34da27f"
      },
      "execution_count": 14,
      "outputs": [
        {
          "output_type": "stream",
          "name": "stdout",
          "text": [
            "Enter a number: 12344321\n",
            "Palindrome\n"
          ]
        }
      ]
    },
    {
      "cell_type": "code",
      "source": [
        "# Q.3 Find the factorial of a given number using a while loop.\n",
        "\n",
        "def factorial(num):\n",
        "    result = 1\n",
        "    while num > 0:\n",
        "        result *= num\n",
        "        num -= 1\n",
        "    return result\n",
        "\n",
        "num = int(input(\"Enter a number: \"))\n",
        "print(\"Factorial:\", factorial(num))"
      ],
      "metadata": {
        "colab": {
          "base_uri": "https://localhost:8080/"
        },
        "id": "F6s4G7nslI4o",
        "outputId": "072c56f1-40de-47b6-8cd5-e2366c0a5c92"
      },
      "execution_count": 15,
      "outputs": [
        {
          "output_type": "stream",
          "name": "stdout",
          "text": [
            "Enter a number: 4\n",
            "Factorial: 24\n"
          ]
        }
      ]
    },
    {
      "cell_type": "code",
      "source": [
        "# Q.4 Accept numbers using input() function until the user enters 0, then display the sum\n",
        "\n",
        "total = 0\n",
        "while True:\n",
        "    num = int(input(\"Enter a number (0 to stop): \"))\n",
        "    if num == 0:\n",
        "        break\n",
        "    total += num\n",
        "print(\"Sum of all numbers:\", total)"
      ],
      "metadata": {
        "colab": {
          "base_uri": "https://localhost:8080/"
        },
        "id": "-FymuMD9lwzm",
        "outputId": "60bc2e4f-7363-4058-9ce5-16a4f3242303"
      },
      "execution_count": 16,
      "outputs": [
        {
          "output_type": "stream",
          "name": "stdout",
          "text": [
            "Enter a number (0 to stop): 23\n",
            "Enter a number (0 to stop): 12\n",
            "Enter a number (0 to stop): 212\n",
            "Enter a number (0 to stop): 12\n",
            "Enter a number (0 to stop): 0\n",
            "Sum of all numbers: 259\n"
          ]
        }
      ]
    },
    {
      "cell_type": "code",
      "source": [],
      "metadata": {
        "id": "5a7ZqqOzl8GD"
      },
      "execution_count": null,
      "outputs": []
    }
  ]
}