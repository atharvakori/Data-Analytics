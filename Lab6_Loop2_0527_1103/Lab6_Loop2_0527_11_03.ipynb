{
  "nbformat": 4,
  "nbformat_minor": 0,
  "metadata": {
    "colab": {
      "provenance": []
    },
    "kernelspec": {
      "name": "python3",
      "display_name": "Python 3"
    },
    "language_info": {
      "name": "python"
    }
  },
  "cells": [
    {
      "cell_type": "code",
      "execution_count": 2,
      "metadata": {
        "colab": {
          "base_uri": "https://localhost:8080/"
        },
        "id": "f6abLY2GntCq",
        "outputId": "6c0d6376-94ff-49e8-a57d-2523307c9fc8"
      },
      "outputs": [
        {
          "output_type": "stream",
          "name": "stdout",
          "text": [
            "1\n",
            "2\n",
            "3\n",
            "4\n",
            "5\n",
            "6\n",
            "7\n",
            "8\n",
            "9\n",
            "10\n"
          ]
        }
      ],
      "source": [
        "# Q1. Print the first 10 natural numbers using for loop:\n",
        "\n",
        "for i in range(1, 11):\n",
        "    print(i)"
      ]
    },
    {
      "cell_type": "code",
      "source": [
        "# Q2. Python program to check if the given string is a palindrome:\n",
        "\n",
        "def is_palindrome(s):\n",
        "    return s == s[::-1]\n",
        "\n",
        "s = input(\"Enter a string: \")\n",
        "if is_palindrome(s):\n",
        "    print(\"Palindrome\")\n",
        "else:\n",
        "    print(\"Not Palindrome\")"
      ],
      "metadata": {
        "colab": {
          "base_uri": "https://localhost:8080/"
        },
        "id": "pY2z4WRtn9jI",
        "outputId": "86fe913f-aeb8-49e0-bda5-eaecdb7f5b23"
      },
      "execution_count": 3,
      "outputs": [
        {
          "output_type": "stream",
          "name": "stdout",
          "text": [
            "Enter a string: atharva kori\n",
            "Not Palindrome\n"
          ]
        }
      ]
    },
    {
      "cell_type": "code",
      "source": [
        "# Q3. Python program to check if a given number is an Armstrong number:\n",
        "\n",
        "def is_armstrong(num):\n",
        "    digits = len(str(num))\n",
        "    sum_of_powers = sum(int(digit) ** digits for digit in str(num))\n",
        "    return num == sum_of_powers\n",
        "\n",
        "num = int(input(\"Enter a number: \"))\n",
        "if is_armstrong(num):\n",
        "    print(\"Armstrong Number\")\n",
        "else:\n",
        "    print(\"Not Armstrong Number\")"
      ],
      "metadata": {
        "colab": {
          "base_uri": "https://localhost:8080/"
        },
        "id": "pow3qkL_oFlz",
        "outputId": "8f36c6dd-1ee8-4c29-94ae-2f28c66cb78f"
      },
      "execution_count": 5,
      "outputs": [
        {
          "output_type": "stream",
          "name": "stdout",
          "text": [
            "Enter a number: 153\n",
            "Armstrong Number\n"
          ]
        }
      ]
    },
    {
      "cell_type": "code",
      "source": [
        "#Q4. Python program to get the Fibonacci series between 0 to 50:\n",
        "\n",
        "a, b = 0, 1\n",
        "while a <= 50:\n",
        "    print(a, end=\" \")\n",
        "    a, b = b, a + b"
      ],
      "metadata": {
        "colab": {
          "base_uri": "https://localhost:8080/"
        },
        "id": "Mv-LdjFvoPK-",
        "outputId": "ce91dbdf-b0fc-4327-efee-90294c1586f0"
      },
      "execution_count": 6,
      "outputs": [
        {
          "output_type": "stream",
          "name": "stdout",
          "text": [
            "0 1 1 2 3 5 8 13 21 34 "
          ]
        }
      ]
    },
    {
      "cell_type": "code",
      "source": [
        "# Q5. Python program to check the validity of password input by users:\n",
        "\n",
        "import re\n",
        "\n",
        "def is_valid_password(password):\n",
        "    if len(password) < 8:\n",
        "        return False\n",
        "    if not re.search(r\"[A-Z]\", password):\n",
        "        return False\n",
        "    if not re.search(r\"[a-z]\", password):\n",
        "        return False\n",
        "    if not re.search(r\"[0-9]\", password):\n",
        "        return False\n",
        "    if not re.search(r\"[!@#$%^&*(),.?\\\":{}|<>]\", password):\n",
        "        return False\n",
        "    return True\n",
        "\n",
        "password = input(\"Enter a password: \")\n",
        "if is_valid_password(password):\n",
        "    print(\"Valid Password\")\n",
        "else:\n",
        "    print(\"Invalid Password\")"
      ],
      "metadata": {
        "colab": {
          "base_uri": "https://localhost:8080/"
        },
        "id": "PmWZgRAVogc1",
        "outputId": "592225b3-d916-4532-8d28-b7e5c25ccd8b"
      },
      "execution_count": 10,
      "outputs": [
        {
          "output_type": "stream",
          "name": "stdout",
          "text": [
            "Enter a password: @2aAueg665\n",
            "Valid Password\n"
          ]
        }
      ]
    },
    {
      "cell_type": "code",
      "source": [],
      "metadata": {
        "id": "Hz7nk-IlorBD"
      },
      "execution_count": null,
      "outputs": []
    }
  ]
}