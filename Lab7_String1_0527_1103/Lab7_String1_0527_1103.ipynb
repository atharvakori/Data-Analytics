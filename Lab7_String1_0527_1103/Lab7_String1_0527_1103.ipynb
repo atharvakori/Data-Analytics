{
  "nbformat": 4,
  "nbformat_minor": 0,
  "metadata": {
    "colab": {
      "provenance": []
    },
    "kernelspec": {
      "name": "python3",
      "display_name": "Python 3"
    },
    "language_info": {
      "name": "python"
    }
  },
  "cells": [
    {
      "cell_type": "code",
      "execution_count": 1,
      "metadata": {
        "colab": {
          "base_uri": "https://localhost:8080/"
        },
        "id": "sZSFG3HpMRLf",
        "outputId": "5c886cad-a4a1-4e68-dd9c-4cacd60718ac"
      },
      "outputs": [
        {
          "output_type": "stream",
          "name": "stdout",
          "text": [
            "{'to': 2, 'change': 2, 'the': 3, 'overall': 1, 'look': 2, 'of': 1, 'your': 1, 'document': 1, 'available': 1, 'in': 1, 'gallery': 1}\n"
          ]
        }
      ],
      "source": [
        "# Q1. Count the occurrences of each word in a given sentence:\n",
        "\n",
        "string = \"To change the overall look of your document. To change the look available in the gallery\"\n",
        "words = string.lower().split()\n",
        "word_count = {}\n",
        "for word in words:\n",
        "    word = word.strip(\".\")\n",
        "    if word in word_count:\n",
        "        word_count[word] += 1\n",
        "    else:\n",
        "        word_count[word] = 1\n",
        "print(word_count)"
      ]
    },
    {
      "cell_type": "code",
      "source": [
        "# Q2. Remove a newline in Python:\n",
        "\n",
        "string = \"\\nBest \\nDeeptech \\nPython \\nTraining\\n\"\n",
        "string = string.replace(\"\\n\", \"\")\n",
        "print(string)"
      ],
      "metadata": {
        "colab": {
          "base_uri": "https://localhost:8080/"
        },
        "id": "WiBfHNYEMhIz",
        "outputId": "cc6f8098-7fd7-44b0-9916-86a6816e6a5a"
      },
      "execution_count": 2,
      "outputs": [
        {
          "output_type": "stream",
          "name": "stdout",
          "text": [
            "Best Deeptech Python Training\n"
          ]
        }
      ]
    },
    {
      "cell_type": "code",
      "source": [
        "# Q3. Reverse words in a string:\n",
        "\n",
        "string = \"Best Deeptech Python Training\"\n",
        "words = string.split()\n",
        "words.reverse()\n",
        "string = \" \".join(words)\n",
        "print(string)"
      ],
      "metadata": {
        "colab": {
          "base_uri": "https://localhost:8080/"
        },
        "id": "YcBaZBreMs_5",
        "outputId": "f9d18759-f977-4bca-fa6a-281b57b7f137"
      },
      "execution_count": 3,
      "outputs": [
        {
          "output_type": "stream",
          "name": "stdout",
          "text": [
            "Training Python Deeptech Best\n"
          ]
        }
      ]
    },
    {
      "cell_type": "code",
      "source": [
        "#Q4. Count and display the vowels of a given text:\n",
        "\n",
        "string = \"Welcome to python Training\"\n",
        "vowels = \"aeiou\"\n",
        "vowel_count = {v: 0 for v in vowels}\n",
        "for char in string.lower():\n",
        "    if char in vowels:\n",
        "        vowel_count[char] += 1\n",
        "print(vowel_count)"
      ],
      "metadata": {
        "colab": {
          "base_uri": "https://localhost:8080/"
        },
        "id": "r6UnbtV9M6z2",
        "outputId": "326548c1-ea2c-4842-faf3-f7726939ba70"
      },
      "execution_count": 5,
      "outputs": [
        {
          "output_type": "stream",
          "name": "stdout",
          "text": [
            "{'a': 1, 'e': 2, 'i': 2, 'o': 3, 'u': 0}\n"
          ]
        }
      ]
    },
    {
      "cell_type": "code",
      "source": [],
      "metadata": {
        "id": "qIK_NGUeNCoO"
      },
      "execution_count": null,
      "outputs": []
    }
  ]
}