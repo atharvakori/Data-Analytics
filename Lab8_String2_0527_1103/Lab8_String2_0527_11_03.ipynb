{
  "nbformat": 4,
  "nbformat_minor": 0,
  "metadata": {
    "colab": {
      "provenance": []
    },
    "kernelspec": {
      "name": "python3",
      "display_name": "Python 3"
    },
    "language_info": {
      "name": "python"
    }
  },
  "cells": [
    {
      "cell_type": "code",
      "execution_count": 6,
      "metadata": {
        "colab": {
          "base_uri": "https://localhost:8080/"
        },
        "id": "A9VhXcaON5jw",
        "outputId": "8d71c691-c43b-44e1-ccd1-04f783810e8a"
      },
      "outputs": [
        {
          "output_type": "stream",
          "name": "stdout",
          "text": [
            "Chars = 8 Digits = 3 Symbol = 4\n"
          ]
        }
      ],
      "source": [
        "# Q1. Count all letters, digits, and special symbols from the given string:\n",
        "\n",
        "input_string = \"P@#yn26at^&i5ve\"\n",
        "letters = digits = symbols = 0\n",
        "for char in input_string:\n",
        "    if char.isalpha():\n",
        "        letters += 1\n",
        "    elif char.isdigit():\n",
        "        digits += 1\n",
        "    else:\n",
        "        symbols += 1\n",
        "print(\"Chars =\", letters, \"Digits =\", digits, \"Symbol =\", symbols)"
      ]
    },
    {
      "cell_type": "code",
      "source": [
        "#Q2. Remove duplicate characters of a given string:\n",
        "\n",
        "input_string = \"String and String Function\"\n",
        "words = input_string.split()\n",
        "output = []\n",
        "for word in words:\n",
        "    unique_chars = \"\".join(sorted(set(word), key=word.index))\n",
        "    output.append(unique_chars)\n",
        "print(\" \".join(output))"
      ],
      "metadata": {
        "colab": {
          "base_uri": "https://localhost:8080/"
        },
        "id": "iV1h8dVWOZ_s",
        "outputId": "f4247eb1-6e5c-48cc-9c51-9ebba93e121f"
      },
      "execution_count": 7,
      "outputs": [
        {
          "output_type": "stream",
          "name": "stdout",
          "text": [
            "String and String Functio\n"
          ]
        }
      ]
    },
    {
      "cell_type": "code",
      "source": [
        "# Q3. Count Uppercase, Lowercase, special character, and numeric values in a given string:\n",
        "\n",
        "input_string = \"Hello World! 123 # welcome to pYtHoN\"\n",
        "uppercase = lowercase = digits = special_chars = 0\n",
        "for char in input_string:\n",
        "    if char.isupper():\n",
        "        uppercase += 1\n",
        "    elif char.islower():\n",
        "        lowercase += 1\n",
        "    elif char.isdigit():\n",
        "        digits += 1\n",
        "    else:\n",
        "        special_chars += 1\n",
        "print(\"UpperCase:\", uppercase)\n",
        "print(\"LowerCase:\", lowercase)\n",
        "print(\"NumberCase:\", digits)\n",
        "print(\"SpecialCase:\", special_chars)"
      ],
      "metadata": {
        "colab": {
          "base_uri": "https://localhost:8080/"
        },
        "id": "bAYGlhzJOm9s",
        "outputId": "a396334f-864c-4a3d-ca1e-e54f019e032d"
      },
      "execution_count": 8,
      "outputs": [
        {
          "output_type": "stream",
          "name": "stdout",
          "text": [
            "UpperCase: 5\n",
            "LowerCase: 20\n",
            "NumberCase: 3\n",
            "SpecialCase: 8\n"
          ]
        }
      ]
    },
    {
      "cell_type": "code",
      "source": [
        "# Q4. Count vowels in a string:\n",
        "\n",
        "input_string = \"Welcome to Python Assignment\"\n",
        "vowels = \"aeiou\"\n",
        "count = 0\n",
        "for char in input_string.lower():\n",
        "    if char in vowels:\n",
        "        count += 1\n",
        "print(\"Total vowels are:\", count)"
      ],
      "metadata": {
        "colab": {
          "base_uri": "https://localhost:8080/"
        },
        "id": "7jalaNjVOoGx",
        "outputId": "0a658e96-3488-4b8d-a860-97e9602203ec"
      },
      "execution_count": 9,
      "outputs": [
        {
          "output_type": "stream",
          "name": "stdout",
          "text": [
            "Total vowels are: 8\n"
          ]
        }
      ]
    },
    {
      "cell_type": "code",
      "source": [],
      "metadata": {
        "id": "SnKZvF0yPOQU"
      },
      "execution_count": null,
      "outputs": []
    }
  ]
}