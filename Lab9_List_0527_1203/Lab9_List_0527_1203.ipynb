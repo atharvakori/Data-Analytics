{
  "nbformat": 4,
  "nbformat_minor": 0,
  "metadata": {
    "colab": {
      "provenance": []
    },
    "kernelspec": {
      "name": "python3",
      "display_name": "Python 3"
    },
    "language_info": {
      "name": "python"
    }
  },
  "cells": [
    {
      "cell_type": "code",
      "execution_count": 7,
      "metadata": {
        "colab": {
          "base_uri": "https://localhost:8080/"
        },
        "id": "sf5JGMg4QI8d",
        "outputId": "3c860a32-0f0d-42ca-c961-2fe72974fe5e"
      },
      "outputs": [
        {
          "output_type": "stream",
          "name": "stdout",
          "text": [
            "15\n"
          ]
        }
      ],
      "source": [
        "# Q1. Sum all the items in a list:\n",
        "\n",
        "my_list = [1, 2, 3, 4, 5]\n",
        "total = 0\n",
        "for item in my_list:\n",
        "    total += item\n",
        "print(total)"
      ]
    },
    {
      "cell_type": "code",
      "source": [
        "# Q2. Get the largest and smallest number from a list without builtin functions:\n",
        "\n",
        "my_list = [5, 3, 8, 1, 2, 7]\n",
        "largest = my_list[0]\n",
        "smallest = my_list[0]\n",
        "for num in my_list:\n",
        "    if num > largest:\n",
        "        largest = num\n",
        "    if num < smallest:\n",
        "        smallest = num\n",
        "print(\"Largest:\", largest)\n",
        "print(\"Smallest:\", smallest)"
      ],
      "metadata": {
        "colab": {
          "base_uri": "https://localhost:8080/"
        },
        "id": "eAX-jxj0Rgg0",
        "outputId": "b496f527-d258-4b9f-e619-9a268f755e9d"
      },
      "execution_count": 8,
      "outputs": [
        {
          "output_type": "stream",
          "name": "stdout",
          "text": [
            "Largest: 8\n",
            "Smallest: 1\n"
          ]
        }
      ]
    },
    {
      "cell_type": "code",
      "source": [
        "# Q3. Find duplicate values from a list and display those:\n",
        "\n",
        "my_list = [1, 1, 2, 3, 4, 4, 5, 1]\n",
        "duplicates = []\n",
        "for i in range(len(my_list)):\n",
        "    if my_list[i] not in duplicates and my_list.count(my_list[i]) > 1:\n",
        "        duplicates.append(my_list[i])\n",
        "print(duplicates)"
      ],
      "metadata": {
        "colab": {
          "base_uri": "https://localhost:8080/"
        },
        "id": "8HxUpL6qRkAu",
        "outputId": "a1fe4507-3a7a-4dc4-eea2-4df62a3c4bde"
      },
      "execution_count": 9,
      "outputs": [
        {
          "output_type": "stream",
          "name": "stdout",
          "text": [
            "[1, 4]\n"
          ]
        }
      ]
    },
    {
      "cell_type": "code",
      "source": [
        "# Q4. Split a given list into two parts where the length of the first part of the list is given:\n",
        "\n",
        "original_list = [1, 1, 2, 3, 4, 4, 5, 1]\n",
        "first_part_length = 3\n",
        "first_part = original_list[:first_part_length]\n",
        "second_part = original_list[first_part_length:]\n",
        "print(\"Splitted the said list into two parts:\")\n",
        "print(first_part, second_part)"
      ],
      "metadata": {
        "colab": {
          "base_uri": "https://localhost:8080/"
        },
        "id": "mlSE5lv6RqN0",
        "outputId": "8154fd9a-d6c1-4c92-e66f-1fb695ec0cbe"
      },
      "execution_count": 6,
      "outputs": [
        {
          "output_type": "stream",
          "name": "stdout",
          "text": [
            "Splitted the said list into two parts:\n",
            "[1, 1, 2] [3, 4, 4, 5, 1]\n"
          ]
        }
      ]
    },
    {
      "cell_type": "code",
      "source": [
        "# Q5. Traverse a given list in reverse order, and print the elements with the original index:\n",
        "\n",
        "original_list = ['red', 'green', 'white', 'black']\n",
        "for i in range(len(original_list)-1, -1, -1):\n",
        "    print(original_list[i])"
      ],
      "metadata": {
        "colab": {
          "base_uri": "https://localhost:8080/"
        },
        "id": "4Yqh2wXfSYvF",
        "outputId": "21abfa64-cedf-4f07-c9f1-ce181da7b88c"
      },
      "execution_count": 5,
      "outputs": [
        {
          "output_type": "stream",
          "name": "stdout",
          "text": [
            "black\n",
            "white\n",
            "green\n",
            "red\n"
          ]
        }
      ]
    },
    {
      "cell_type": "code",
      "source": [],
      "metadata": {
        "id": "I7HI2sCcSeUp"
      },
      "execution_count": null,
      "outputs": []
    }
  ]
}